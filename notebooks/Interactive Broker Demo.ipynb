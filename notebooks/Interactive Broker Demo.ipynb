{
 "cells": [
  {
   "cell_type": "markdown",
   "metadata": {},
   "source": [
    "# Interactive Broker Demo\n",
    "### Please ensure IB TWS is running locally"
   ]
  },
  {
   "cell_type": "code",
   "execution_count": 98,
   "metadata": {},
   "outputs": [],
   "source": [
    "import nest_asyncio\n",
    "nest_asyncio.apply()\n",
    "\n",
    "# Hide exception trace\n",
    "import functools\n",
    "ipython = get_ipython()\n",
    "method_name = \"showtraceback\"\n",
    "setattr(\n",
    "    ipython,\n",
    "    method_name,\n",
    "    functools.partial(\n",
    "        getattr(ipython, method_name),\n",
    "        exception_only=True\n",
    "    )\n",
    ")\n",
    "\n",
    "import ib_insync as ib\n",
    "\n",
    "from src.config import *\n",
    "from src.constant import *\n",
    "from src.execution.marketdata import MarketData\n",
    "from src.execution.interactive_broker import InteractiveBroker"
   ]
  },
  {
   "cell_type": "markdown",
   "metadata": {},
   "source": [
    "## Connect to IB"
   ]
  },
  {
   "cell_type": "code",
   "execution_count": 108,
   "metadata": {},
   "outputs": [],
   "source": [
    "PORT = 7496"
   ]
  },
  {
   "cell_type": "code",
   "execution_count": 109,
   "metadata": {},
   "outputs": [],
   "source": [
    "self = InteractiveBroker(port=PORT)"
   ]
  },
  {
   "cell_type": "code",
   "execution_count": 110,
   "metadata": {},
   "outputs": [
    {
     "name": "stdout",
     "output_type": "stream",
     "text": [
      "[2021-01-29 16:02:02.066] [INFO] [interactive_broker:connect:29] IB Connected: <IB connected to 127.0.0.1:7496 clientId=204>\n"
     ]
    }
   ],
   "source": [
    "self.connect()"
   ]
  },
  {
   "cell_type": "markdown",
   "metadata": {},
   "source": [
    "## Fetch portfolio greeks"
   ]
  },
  {
   "cell_type": "markdown",
   "metadata": {},
   "source": [
    "### Fetch portfolio without marketdata"
   ]
  },
  {
   "cell_type": "code",
   "execution_count": 111,
   "metadata": {},
   "outputs": [
    {
     "data": {
      "text/html": [
       "<div>\n",
       "<style scoped>\n",
       "    .dataframe tbody tr th:only-of-type {\n",
       "        vertical-align: middle;\n",
       "    }\n",
       "\n",
       "    .dataframe tbody tr th {\n",
       "        vertical-align: top;\n",
       "    }\n",
       "\n",
       "    .dataframe thead th {\n",
       "        text-align: right;\n",
       "    }\n",
       "</style>\n",
       "<table border=\"1\" class=\"dataframe\">\n",
       "  <thead>\n",
       "    <tr style=\"text-align: right;\">\n",
       "      <th></th>\n",
       "      <th>symbol</th>\n",
       "      <th>sec_type</th>\n",
       "      <th>position</th>\n",
       "      <th>market_price</th>\n",
       "      <th>market_value</th>\n",
       "      <th>exp</th>\n",
       "      <th>strike</th>\n",
       "      <th>cp</th>\n",
       "    </tr>\n",
       "  </thead>\n",
       "  <tbody>\n",
       "    <tr>\n",
       "      <th>0</th>\n",
       "      <td>TMF</td>\n",
       "      <td>STK</td>\n",
       "      <td>400.0</td>\n",
       "      <td>31.52</td>\n",
       "      <td>12608.00</td>\n",
       "      <td></td>\n",
       "      <td>0.0</td>\n",
       "      <td></td>\n",
       "    </tr>\n",
       "    <tr>\n",
       "      <th>1</th>\n",
       "      <td>TNA</td>\n",
       "      <td>OPT</td>\n",
       "      <td>4.0</td>\n",
       "      <td>2.14</td>\n",
       "      <td>857.97</td>\n",
       "      <td>20210205</td>\n",
       "      <td>67.0</td>\n",
       "      <td>P</td>\n",
       "    </tr>\n",
       "    <tr>\n",
       "      <th>2</th>\n",
       "      <td>TNA</td>\n",
       "      <td>OPT</td>\n",
       "      <td>-4.0</td>\n",
       "      <td>7.66</td>\n",
       "      <td>-3065.45</td>\n",
       "      <td>20210205</td>\n",
       "      <td>80.0</td>\n",
       "      <td>P</td>\n",
       "    </tr>\n",
       "  </tbody>\n",
       "</table>\n",
       "</div>"
      ],
      "text/plain": [
       "  symbol sec_type  position  market_price  market_value       exp  strike cp\n",
       "0    TMF      STK     400.0         31.52      12608.00               0.0   \n",
       "1    TNA      OPT       4.0          2.14        857.97  20210205    67.0  P\n",
       "2    TNA      OPT      -4.0          7.66      -3065.45  20210205    80.0  P"
      ]
     },
     "execution_count": 111,
     "metadata": {},
     "output_type": "execute_result"
    }
   ],
   "source": [
    "self.portfolio()"
   ]
  },
  {
   "cell_type": "markdown",
   "metadata": {},
   "source": [
    "### Fetch portfolio with marketdata (market hours only)"
   ]
  },
  {
   "cell_type": "code",
   "execution_count": 112,
   "metadata": {},
   "outputs": [
    {
     "ename": "Exception",
     "evalue": "No quote for TNA   210205P00067000. Please query it during market open.",
     "output_type": "error",
     "traceback": [
      "An exception has occurred, use %tb to see the full traceback.\n",
      "\u001b[0;31mException\u001b[0m\u001b[0;31m:\u001b[0m No quote for TNA   210205P00067000. Please query it during market open.\n"
     ]
    }
   ],
   "source": [
    "df = self.portfolio(greeks=True)"
   ]
  },
  {
   "cell_type": "code",
   "execution_count": 44,
   "metadata": {},
   "outputs": [
    {
     "data": {
      "text/html": [
       "<div>\n",
       "<style scoped>\n",
       "    .dataframe tbody tr th:only-of-type {\n",
       "        vertical-align: middle;\n",
       "    }\n",
       "\n",
       "    .dataframe tbody tr th {\n",
       "        vertical-align: top;\n",
       "    }\n",
       "\n",
       "    .dataframe thead th {\n",
       "        text-align: right;\n",
       "    }\n",
       "</style>\n",
       "<table border=\"1\" class=\"dataframe\">\n",
       "  <thead>\n",
       "    <tr style=\"text-align: right;\">\n",
       "      <th></th>\n",
       "      <th>symbol</th>\n",
       "      <th>sec_type</th>\n",
       "      <th>position</th>\n",
       "      <th>market_price</th>\n",
       "      <th>market_value</th>\n",
       "      <th>bid</th>\n",
       "      <th>ask</th>\n",
       "      <th>mid</th>\n",
       "      <th>exp</th>\n",
       "      <th>strike</th>\n",
       "      <th>cp</th>\n",
       "      <th>delta</th>\n",
       "      <th>gamma</th>\n",
       "      <th>theta</th>\n",
       "      <th>vega</th>\n",
       "      <th>iv</th>\n",
       "      <th>und_price</th>\n",
       "      <th>timestamp</th>\n",
       "    </tr>\n",
       "  </thead>\n",
       "  <tbody>\n",
       "    <tr>\n",
       "      <th>0</th>\n",
       "      <td>TMF</td>\n",
       "      <td>STK</td>\n",
       "      <td>400.0</td>\n",
       "      <td>31.76</td>\n",
       "      <td>12702.44</td>\n",
       "      <td>31.78</td>\n",
       "      <td>31.79</td>\n",
       "      <td>31.79</td>\n",
       "      <td></td>\n",
       "      <td>0.0</td>\n",
       "      <td></td>\n",
       "      <td>1.000</td>\n",
       "      <td>0.000</td>\n",
       "      <td>0.000</td>\n",
       "      <td>0.000</td>\n",
       "      <td>0.000</td>\n",
       "      <td>0.00</td>\n",
       "      <td>2021-01-28T12:47:11.509891-08:00</td>\n",
       "    </tr>\n",
       "    <tr>\n",
       "      <th>1</th>\n",
       "      <td>TNA</td>\n",
       "      <td>OPT</td>\n",
       "      <td>4.0</td>\n",
       "      <td>1.20</td>\n",
       "      <td>479.65</td>\n",
       "      <td>1.14</td>\n",
       "      <td>1.35</td>\n",
       "      <td>1.25</td>\n",
       "      <td>20210205</td>\n",
       "      <td>67.0</td>\n",
       "      <td>P</td>\n",
       "      <td>-0.144</td>\n",
       "      <td>0.016</td>\n",
       "      <td>-0.202</td>\n",
       "      <td>0.029</td>\n",
       "      <td>1.205</td>\n",
       "      <td>79.66</td>\n",
       "      <td>2021-01-28T12:47:11.514747-08:00</td>\n",
       "    </tr>\n",
       "    <tr>\n",
       "      <th>2</th>\n",
       "      <td>TNA</td>\n",
       "      <td>OPT</td>\n",
       "      <td>-4.0</td>\n",
       "      <td>4.95</td>\n",
       "      <td>-1978.03</td>\n",
       "      <td>4.90</td>\n",
       "      <td>5.15</td>\n",
       "      <td>5.03</td>\n",
       "      <td>20210205</td>\n",
       "      <td>80.0</td>\n",
       "      <td>P</td>\n",
       "      <td>-0.482</td>\n",
       "      <td>0.034</td>\n",
       "      <td>-0.296</td>\n",
       "      <td>0.047</td>\n",
       "      <td>1.002</td>\n",
       "      <td>79.66</td>\n",
       "      <td>2021-01-28T12:47:11.514747-08:00</td>\n",
       "    </tr>\n",
       "  </tbody>\n",
       "</table>\n",
       "</div>"
      ],
      "text/plain": [
       "  symbol sec_type  position  market_price  market_value    bid    ask    mid  \\\n",
       "0    TMF      STK     400.0         31.76      12702.44  31.78  31.79  31.79   \n",
       "1    TNA      OPT       4.0          1.20        479.65   1.14   1.35   1.25   \n",
       "2    TNA      OPT      -4.0          4.95      -1978.03   4.90   5.15   5.03   \n",
       "\n",
       "        exp  strike cp  delta  gamma  theta   vega     iv  und_price  \\\n",
       "0               0.0     1.000  0.000  0.000  0.000  0.000       0.00   \n",
       "1  20210205    67.0  P -0.144  0.016 -0.202  0.029  1.205      79.66   \n",
       "2  20210205    80.0  P -0.482  0.034 -0.296  0.047  1.002      79.66   \n",
       "\n",
       "                          timestamp  \n",
       "0  2021-01-28T12:47:11.509891-08:00  \n",
       "1  2021-01-28T12:47:11.514747-08:00  \n",
       "2  2021-01-28T12:47:11.514747-08:00  "
      ]
     },
     "execution_count": 44,
     "metadata": {},
     "output_type": "execute_result"
    }
   ],
   "source": [
    "df"
   ]
  },
  {
   "cell_type": "markdown",
   "metadata": {},
   "source": [
    "### Fetch account summaries"
   ]
  },
  {
   "cell_type": "code",
   "execution_count": null,
   "metadata": {},
   "outputs": [],
   "source": [
    "self.account_summary()"
   ]
  },
  {
   "cell_type": "markdown",
   "metadata": {},
   "source": [
    "## Fetch Option Contracts\n",
    "Note: this function can be very slow depending on the number of option contracts to be fetched."
   ]
  },
  {
   "cell_type": "markdown",
   "metadata": {},
   "source": [
    "### Stock Options"
   ]
  },
  {
   "cell_type": "code",
   "execution_count": 114,
   "metadata": {},
   "outputs": [
    {
     "data": {
      "text/plain": [
       "\u001b[0;31mSignature:\u001b[0m \u001b[0mself\u001b[0m\u001b[0;34m.\u001b[0m\u001b[0moptions\u001b[0m\u001b[0;34m(\u001b[0m\u001b[0msymbol\u001b[0m\u001b[0;34m:\u001b[0m \u001b[0mstr\u001b[0m\u001b[0;34m,\u001b[0m \u001b[0mpercent_strike\u001b[0m\u001b[0;34m:\u001b[0m \u001b[0mfloat\u001b[0m \u001b[0;34m=\u001b[0m \u001b[0;36m0.05\u001b[0m\u001b[0;34m,\u001b[0m \u001b[0mdte\u001b[0m\u001b[0;34m:\u001b[0m \u001b[0mint\u001b[0m \u001b[0;34m=\u001b[0m \u001b[0;36m180\u001b[0m\u001b[0;34m)\u001b[0m \u001b[0;34m->\u001b[0m \u001b[0mpandas\u001b[0m\u001b[0;34m.\u001b[0m\u001b[0mcore\u001b[0m\u001b[0;34m.\u001b[0m\u001b[0mframe\u001b[0m\u001b[0;34m.\u001b[0m\u001b[0mDataFrame\u001b[0m\u001b[0;34m\u001b[0m\u001b[0;34m\u001b[0m\u001b[0m\n",
       "\u001b[0;31mDocstring:\u001b[0m\n",
       "Get a list of stock options with quotes for the given symbol.\n",
       ":param symbol: stock symbol\n",
       ":param percent_strike: (1 - percent_strike, 1 + percent_strike) * market_price\n",
       ":param dte: maximum days to expiration from now (non-business days)\n",
       "\n",
       "E.g. options('SPY', percent_strike=0.05, dte=180)\n",
       "\n",
       "WARNING: this method can be slow.\n",
       "\u001b[0;31mFile:\u001b[0m      ~/dev/crypto_bot/src/execution/interactive_broker.py\n",
       "\u001b[0;31mType:\u001b[0m      method\n"
      ]
     },
     "metadata": {},
     "output_type": "display_data"
    }
   ],
   "source": [
    "?self.options"
   ]
  },
  {
   "cell_type": "code",
   "execution_count": 56,
   "metadata": {},
   "outputs": [
    {
     "name": "stdout",
     "output_type": "stream",
     "text": [
      "[2021-01-28 12:57:58.756] [INFO] [marketdata:get_stock_options:90] Get 2160 potential option contracts.\n",
      "[2021-01-28 12:59:33.575] [INFO] [marketdata:get_stock_options:93] Get 1506 option quotes.\n"
     ]
    }
   ],
   "source": [
    "options = self.options('SPY')"
   ]
  },
  {
   "cell_type": "code",
   "execution_count": 62,
   "metadata": {},
   "outputs": [
    {
     "data": {
      "text/html": [
       "<div>\n",
       "<style scoped>\n",
       "    .dataframe tbody tr th:only-of-type {\n",
       "        vertical-align: middle;\n",
       "    }\n",
       "\n",
       "    .dataframe tbody tr th {\n",
       "        vertical-align: top;\n",
       "    }\n",
       "\n",
       "    .dataframe thead th {\n",
       "        text-align: right;\n",
       "    }\n",
       "</style>\n",
       "<table border=\"1\" class=\"dataframe\">\n",
       "  <thead>\n",
       "    <tr style=\"text-align: right;\">\n",
       "      <th></th>\n",
       "      <th>symbol</th>\n",
       "      <th>bid</th>\n",
       "      <th>ask</th>\n",
       "      <th>mid</th>\n",
       "      <th>exp</th>\n",
       "      <th>strike</th>\n",
       "      <th>cp</th>\n",
       "      <th>delta</th>\n",
       "      <th>gamma</th>\n",
       "      <th>theta</th>\n",
       "      <th>vega</th>\n",
       "      <th>iv</th>\n",
       "      <th>und_price</th>\n",
       "      <th>timestamp</th>\n",
       "    </tr>\n",
       "  </thead>\n",
       "  <tbody>\n",
       "    <tr>\n",
       "      <th>0</th>\n",
       "      <td>SPY</td>\n",
       "      <td>18.07</td>\n",
       "      <td>18.20</td>\n",
       "      <td>18.13</td>\n",
       "      <td>20210129</td>\n",
       "      <td>360.0</td>\n",
       "      <td>C</td>\n",
       "      <td>0.987</td>\n",
       "      <td>0.004</td>\n",
       "      <td>-0.038</td>\n",
       "      <td>0.008</td>\n",
       "      <td>0.421</td>\n",
       "      <td>377.97</td>\n",
       "      <td>2021-01-28T12:58:51.717928-08:00</td>\n",
       "    </tr>\n",
       "    <tr>\n",
       "      <th>1</th>\n",
       "      <td>SPY</td>\n",
       "      <td>17.05</td>\n",
       "      <td>17.20</td>\n",
       "      <td>17.12</td>\n",
       "      <td>20210129</td>\n",
       "      <td>361.0</td>\n",
       "      <td>C</td>\n",
       "      <td>0.987</td>\n",
       "      <td>0.004</td>\n",
       "      <td>-0.038</td>\n",
       "      <td>0.008</td>\n",
       "      <td>0.399</td>\n",
       "      <td>377.97</td>\n",
       "      <td>2021-01-28T12:58:50.741544-08:00</td>\n",
       "    </tr>\n",
       "    <tr>\n",
       "      <th>2</th>\n",
       "      <td>SPY</td>\n",
       "      <td>16.05</td>\n",
       "      <td>16.22</td>\n",
       "      <td>16.13</td>\n",
       "      <td>20210129</td>\n",
       "      <td>362.0</td>\n",
       "      <td>C</td>\n",
       "      <td>0.981</td>\n",
       "      <td>0.006</td>\n",
       "      <td>-0.055</td>\n",
       "      <td>0.008</td>\n",
       "      <td>0.398</td>\n",
       "      <td>377.97</td>\n",
       "      <td>2021-01-28T12:58:50.741544-08:00</td>\n",
       "    </tr>\n",
       "    <tr>\n",
       "      <th>3</th>\n",
       "      <td>SPY</td>\n",
       "      <td>15.57</td>\n",
       "      <td>15.71</td>\n",
       "      <td>15.64</td>\n",
       "      <td>20210129</td>\n",
       "      <td>362.5</td>\n",
       "      <td>C</td>\n",
       "      <td>0.980</td>\n",
       "      <td>0.006</td>\n",
       "      <td>-0.058</td>\n",
       "      <td>0.010</td>\n",
       "      <td>0.391</td>\n",
       "      <td>377.97</td>\n",
       "      <td>2021-01-28T12:58:50.723039-08:00</td>\n",
       "    </tr>\n",
       "    <tr>\n",
       "      <th>4</th>\n",
       "      <td>SPY</td>\n",
       "      <td>15.04</td>\n",
       "      <td>15.23</td>\n",
       "      <td>15.13</td>\n",
       "      <td>20210129</td>\n",
       "      <td>363.0</td>\n",
       "      <td>C</td>\n",
       "      <td>0.980</td>\n",
       "      <td>0.006</td>\n",
       "      <td>-0.055</td>\n",
       "      <td>0.010</td>\n",
       "      <td>0.377</td>\n",
       "      <td>377.97</td>\n",
       "      <td>2021-01-28T12:58:50.725463-08:00</td>\n",
       "    </tr>\n",
       "  </tbody>\n",
       "</table>\n",
       "</div>"
      ],
      "text/plain": [
       "  symbol    bid    ask    mid       exp  strike cp  delta  gamma  theta  \\\n",
       "0    SPY  18.07  18.20  18.13  20210129   360.0  C  0.987  0.004 -0.038   \n",
       "1    SPY  17.05  17.20  17.12  20210129   361.0  C  0.987  0.004 -0.038   \n",
       "2    SPY  16.05  16.22  16.13  20210129   362.0  C  0.981  0.006 -0.055   \n",
       "3    SPY  15.57  15.71  15.64  20210129   362.5  C  0.980  0.006 -0.058   \n",
       "4    SPY  15.04  15.23  15.13  20210129   363.0  C  0.980  0.006 -0.055   \n",
       "\n",
       "    vega     iv  und_price                         timestamp  \n",
       "0  0.008  0.421     377.97  2021-01-28T12:58:51.717928-08:00  \n",
       "1  0.008  0.399     377.97  2021-01-28T12:58:50.741544-08:00  \n",
       "2  0.008  0.398     377.97  2021-01-28T12:58:50.741544-08:00  \n",
       "3  0.010  0.391     377.97  2021-01-28T12:58:50.723039-08:00  \n",
       "4  0.010  0.377     377.97  2021-01-28T12:58:50.725463-08:00  "
      ]
     },
     "execution_count": 62,
     "metadata": {},
     "output_type": "execute_result"
    }
   ],
   "source": [
    "options.head()"
   ]
  },
  {
   "cell_type": "markdown",
   "metadata": {},
   "source": [
    "### Future Options"
   ]
  },
  {
   "cell_type": "markdown",
   "metadata": {},
   "source": [
    "#### Check available future contracts for a symbol"
   ]
  },
  {
   "cell_type": "code",
   "execution_count": 58,
   "metadata": {},
   "outputs": [],
   "source": [
    "futures = self.futures('ES')"
   ]
  },
  {
   "cell_type": "code",
   "execution_count": 59,
   "metadata": {},
   "outputs": [
    {
     "data": {
      "text/html": [
       "<div>\n",
       "<style scoped>\n",
       "    .dataframe tbody tr th:only-of-type {\n",
       "        vertical-align: middle;\n",
       "    }\n",
       "\n",
       "    .dataframe tbody tr th {\n",
       "        vertical-align: top;\n",
       "    }\n",
       "\n",
       "    .dataframe thead th {\n",
       "        text-align: right;\n",
       "    }\n",
       "</style>\n",
       "<table border=\"1\" class=\"dataframe\">\n",
       "  <thead>\n",
       "    <tr style=\"text-align: right;\">\n",
       "      <th></th>\n",
       "      <th>secType</th>\n",
       "      <th>conId</th>\n",
       "      <th>symbol</th>\n",
       "      <th>lastTradeDateOrContractMonth</th>\n",
       "      <th>strike</th>\n",
       "      <th>right</th>\n",
       "      <th>multiplier</th>\n",
       "      <th>exchange</th>\n",
       "      <th>primaryExchange</th>\n",
       "      <th>currency</th>\n",
       "      <th>localSymbol</th>\n",
       "      <th>tradingClass</th>\n",
       "      <th>includeExpired</th>\n",
       "      <th>secIdType</th>\n",
       "      <th>secId</th>\n",
       "      <th>comboLegsDescrip</th>\n",
       "      <th>comboLegs</th>\n",
       "      <th>deltaNeutralContract</th>\n",
       "    </tr>\n",
       "  </thead>\n",
       "  <tbody>\n",
       "    <tr>\n",
       "      <th>0</th>\n",
       "      <td>FUT</td>\n",
       "      <td>396336017</td>\n",
       "      <td>ES</td>\n",
       "      <td>20210319</td>\n",
       "      <td>0.0</td>\n",
       "      <td></td>\n",
       "      <td>50</td>\n",
       "      <td>GLOBEX</td>\n",
       "      <td></td>\n",
       "      <td>USD</td>\n",
       "      <td>ESH1</td>\n",
       "      <td>ES</td>\n",
       "      <td>False</td>\n",
       "      <td></td>\n",
       "      <td></td>\n",
       "      <td></td>\n",
       "      <td>[]</td>\n",
       "      <td>None</td>\n",
       "    </tr>\n",
       "    <tr>\n",
       "      <th>1</th>\n",
       "      <td>CONTFUT</td>\n",
       "      <td>396336017</td>\n",
       "      <td>ES</td>\n",
       "      <td>20210319</td>\n",
       "      <td>0.0</td>\n",
       "      <td></td>\n",
       "      <td>50</td>\n",
       "      <td>GLOBEX</td>\n",
       "      <td></td>\n",
       "      <td>USD</td>\n",
       "      <td>ESH1</td>\n",
       "      <td>ES</td>\n",
       "      <td>False</td>\n",
       "      <td></td>\n",
       "      <td></td>\n",
       "      <td></td>\n",
       "      <td>[]</td>\n",
       "      <td>None</td>\n",
       "    </tr>\n",
       "    <tr>\n",
       "      <th>2</th>\n",
       "      <td>FUT</td>\n",
       "      <td>412889032</td>\n",
       "      <td>ES</td>\n",
       "      <td>20210618</td>\n",
       "      <td>0.0</td>\n",
       "      <td></td>\n",
       "      <td>50</td>\n",
       "      <td>GLOBEX</td>\n",
       "      <td></td>\n",
       "      <td>USD</td>\n",
       "      <td>ESM1</td>\n",
       "      <td>ES</td>\n",
       "      <td>False</td>\n",
       "      <td></td>\n",
       "      <td></td>\n",
       "      <td></td>\n",
       "      <td>[]</td>\n",
       "      <td>None</td>\n",
       "    </tr>\n",
       "    <tr>\n",
       "      <th>3</th>\n",
       "      <td>FUT</td>\n",
       "      <td>428520022</td>\n",
       "      <td>ES</td>\n",
       "      <td>20210917</td>\n",
       "      <td>0.0</td>\n",
       "      <td></td>\n",
       "      <td>50</td>\n",
       "      <td>GLOBEX</td>\n",
       "      <td></td>\n",
       "      <td>USD</td>\n",
       "      <td>ESU1</td>\n",
       "      <td>ES</td>\n",
       "      <td>False</td>\n",
       "      <td></td>\n",
       "      <td></td>\n",
       "      <td></td>\n",
       "      <td>[]</td>\n",
       "      <td>None</td>\n",
       "    </tr>\n",
       "    <tr>\n",
       "      <th>4</th>\n",
       "      <td>FUT</td>\n",
       "      <td>446091461</td>\n",
       "      <td>ES</td>\n",
       "      <td>20211217</td>\n",
       "      <td>0.0</td>\n",
       "      <td></td>\n",
       "      <td>50</td>\n",
       "      <td>GLOBEX</td>\n",
       "      <td></td>\n",
       "      <td>USD</td>\n",
       "      <td>ESZ1</td>\n",
       "      <td>ES</td>\n",
       "      <td>False</td>\n",
       "      <td></td>\n",
       "      <td></td>\n",
       "      <td></td>\n",
       "      <td>[]</td>\n",
       "      <td>None</td>\n",
       "    </tr>\n",
       "    <tr>\n",
       "      <th>5</th>\n",
       "      <td>FUT</td>\n",
       "      <td>461318816</td>\n",
       "      <td>ES</td>\n",
       "      <td>20220317</td>\n",
       "      <td>0.0</td>\n",
       "      <td></td>\n",
       "      <td>50</td>\n",
       "      <td>GLOBEX</td>\n",
       "      <td></td>\n",
       "      <td>USD</td>\n",
       "      <td>ESH2</td>\n",
       "      <td>ES</td>\n",
       "      <td>False</td>\n",
       "      <td></td>\n",
       "      <td></td>\n",
       "      <td></td>\n",
       "      <td>[]</td>\n",
       "      <td>None</td>\n",
       "    </tr>\n",
       "  </tbody>\n",
       "</table>\n",
       "</div>"
      ],
      "text/plain": [
       "   secType      conId symbol lastTradeDateOrContractMonth  strike right  \\\n",
       "0      FUT  396336017     ES                     20210319     0.0         \n",
       "1  CONTFUT  396336017     ES                     20210319     0.0         \n",
       "2      FUT  412889032     ES                     20210618     0.0         \n",
       "3      FUT  428520022     ES                     20210917     0.0         \n",
       "4      FUT  446091461     ES                     20211217     0.0         \n",
       "5      FUT  461318816     ES                     20220317     0.0         \n",
       "\n",
       "  multiplier exchange primaryExchange currency localSymbol tradingClass  \\\n",
       "0         50   GLOBEX                      USD        ESH1           ES   \n",
       "1         50   GLOBEX                      USD        ESH1           ES   \n",
       "2         50   GLOBEX                      USD        ESM1           ES   \n",
       "3         50   GLOBEX                      USD        ESU1           ES   \n",
       "4         50   GLOBEX                      USD        ESZ1           ES   \n",
       "5         50   GLOBEX                      USD        ESH2           ES   \n",
       "\n",
       "   includeExpired secIdType secId comboLegsDescrip comboLegs  \\\n",
       "0           False                                         []   \n",
       "1           False                                         []   \n",
       "2           False                                         []   \n",
       "3           False                                         []   \n",
       "4           False                                         []   \n",
       "5           False                                         []   \n",
       "\n",
       "  deltaNeutralContract  \n",
       "0                 None  \n",
       "1                 None  \n",
       "2                 None  \n",
       "3                 None  \n",
       "4                 None  \n",
       "5                 None  "
      ]
     },
     "execution_count": 59,
     "metadata": {},
     "output_type": "execute_result"
    }
   ],
   "source": [
    "futures"
   ]
  },
  {
   "cell_type": "markdown",
   "metadata": {},
   "source": [
    "#### Fetch options with given expiration date"
   ]
  },
  {
   "cell_type": "code",
   "execution_count": 60,
   "metadata": {},
   "outputs": [
    {
     "name": "stdout",
     "output_type": "stream",
     "text": [
      "[2021-01-28 12:59:36.547] [INFO] [marketdata:get_future_options:138] ES: get 2280 potential options.\n",
      "[2021-01-28 13:01:36.466] [INFO] [marketdata:get_future_options:141] ES: get 2163 option quotes.\n"
     ]
    }
   ],
   "source": [
    "fop = self.fop('ES', '20210319')"
   ]
  },
  {
   "cell_type": "code",
   "execution_count": 61,
   "metadata": {},
   "outputs": [
    {
     "data": {
      "text/html": [
       "<div>\n",
       "<style scoped>\n",
       "    .dataframe tbody tr th:only-of-type {\n",
       "        vertical-align: middle;\n",
       "    }\n",
       "\n",
       "    .dataframe tbody tr th {\n",
       "        vertical-align: top;\n",
       "    }\n",
       "\n",
       "    .dataframe thead th {\n",
       "        text-align: right;\n",
       "    }\n",
       "</style>\n",
       "<table border=\"1\" class=\"dataframe\">\n",
       "  <thead>\n",
       "    <tr style=\"text-align: right;\">\n",
       "      <th></th>\n",
       "      <th>symbol</th>\n",
       "      <th>bid</th>\n",
       "      <th>ask</th>\n",
       "      <th>mid</th>\n",
       "      <th>exp</th>\n",
       "      <th>strike</th>\n",
       "      <th>cp</th>\n",
       "      <th>delta</th>\n",
       "      <th>gamma</th>\n",
       "      <th>theta</th>\n",
       "      <th>vega</th>\n",
       "      <th>iv</th>\n",
       "      <th>und_price</th>\n",
       "      <th>timestamp</th>\n",
       "    </tr>\n",
       "  </thead>\n",
       "  <tbody>\n",
       "    <tr>\n",
       "      <th>0</th>\n",
       "      <td>ES</td>\n",
       "      <td>180.50</td>\n",
       "      <td>181.75</td>\n",
       "      <td>181.12</td>\n",
       "      <td>20210129</td>\n",
       "      <td>3595.0</td>\n",
       "      <td>C</td>\n",
       "      <td>0.989</td>\n",
       "      <td>0.000</td>\n",
       "      <td>-0.319</td>\n",
       "      <td>0.059</td>\n",
       "      <td>0.412</td>\n",
       "      <td>3775.5</td>\n",
       "      <td>2021-01-28T13:00:42.436289-08:00</td>\n",
       "    </tr>\n",
       "    <tr>\n",
       "      <th>1</th>\n",
       "      <td>ES</td>\n",
       "      <td>175.75</td>\n",
       "      <td>176.75</td>\n",
       "      <td>176.25</td>\n",
       "      <td>20210129</td>\n",
       "      <td>3600.0</td>\n",
       "      <td>C</td>\n",
       "      <td>0.988</td>\n",
       "      <td>0.000</td>\n",
       "      <td>-0.345</td>\n",
       "      <td>0.063</td>\n",
       "      <td>0.407</td>\n",
       "      <td>3775.5</td>\n",
       "      <td>2021-01-28T13:00:42.436289-08:00</td>\n",
       "    </tr>\n",
       "    <tr>\n",
       "      <th>2</th>\n",
       "      <td>ES</td>\n",
       "      <td>170.75</td>\n",
       "      <td>171.75</td>\n",
       "      <td>171.25</td>\n",
       "      <td>20210129</td>\n",
       "      <td>3605.0</td>\n",
       "      <td>C</td>\n",
       "      <td>0.987</td>\n",
       "      <td>0.000</td>\n",
       "      <td>-0.375</td>\n",
       "      <td>0.068</td>\n",
       "      <td>0.401</td>\n",
       "      <td>3775.5</td>\n",
       "      <td>2021-01-28T13:00:42.436289-08:00</td>\n",
       "    </tr>\n",
       "    <tr>\n",
       "      <th>3</th>\n",
       "      <td>ES</td>\n",
       "      <td>162.00</td>\n",
       "      <td>170.00</td>\n",
       "      <td>166.00</td>\n",
       "      <td>20210129</td>\n",
       "      <td>3610.0</td>\n",
       "      <td>C</td>\n",
       "      <td>0.986</td>\n",
       "      <td>0.000</td>\n",
       "      <td>-0.402</td>\n",
       "      <td>0.073</td>\n",
       "      <td>0.394</td>\n",
       "      <td>3775.5</td>\n",
       "      <td>2021-01-28T13:00:42.436289-08:00</td>\n",
       "    </tr>\n",
       "    <tr>\n",
       "      <th>4</th>\n",
       "      <td>ES</td>\n",
       "      <td>160.75</td>\n",
       "      <td>162.00</td>\n",
       "      <td>161.38</td>\n",
       "      <td>20210129</td>\n",
       "      <td>3615.0</td>\n",
       "      <td>C</td>\n",
       "      <td>0.984</td>\n",
       "      <td>0.001</td>\n",
       "      <td>-0.437</td>\n",
       "      <td>0.078</td>\n",
       "      <td>0.388</td>\n",
       "      <td>3775.5</td>\n",
       "      <td>2021-01-28T13:00:42.436289-08:00</td>\n",
       "    </tr>\n",
       "  </tbody>\n",
       "</table>\n",
       "</div>"
      ],
      "text/plain": [
       "  symbol     bid     ask     mid       exp  strike cp  delta  gamma  theta  \\\n",
       "0     ES  180.50  181.75  181.12  20210129  3595.0  C  0.989  0.000 -0.319   \n",
       "1     ES  175.75  176.75  176.25  20210129  3600.0  C  0.988  0.000 -0.345   \n",
       "2     ES  170.75  171.75  171.25  20210129  3605.0  C  0.987  0.000 -0.375   \n",
       "3     ES  162.00  170.00  166.00  20210129  3610.0  C  0.986  0.000 -0.402   \n",
       "4     ES  160.75  162.00  161.38  20210129  3615.0  C  0.984  0.001 -0.437   \n",
       "\n",
       "    vega     iv  und_price                         timestamp  \n",
       "0  0.059  0.412     3775.5  2021-01-28T13:00:42.436289-08:00  \n",
       "1  0.063  0.407     3775.5  2021-01-28T13:00:42.436289-08:00  \n",
       "2  0.068  0.401     3775.5  2021-01-28T13:00:42.436289-08:00  \n",
       "3  0.073  0.394     3775.5  2021-01-28T13:00:42.436289-08:00  \n",
       "4  0.078  0.388     3775.5  2021-01-28T13:00:42.436289-08:00  "
      ]
     },
     "execution_count": 61,
     "metadata": {},
     "output_type": "execute_result"
    }
   ],
   "source": [
    "fop.head()"
   ]
  },
  {
   "cell_type": "markdown",
   "metadata": {},
   "source": [
    "## Fetch quote for Stock / Option / Future / Future Option"
   ]
  },
  {
   "cell_type": "markdown",
   "metadata": {},
   "source": [
    "### Stock"
   ]
  },
  {
   "cell_type": "code",
   "execution_count": 81,
   "metadata": {},
   "outputs": [
    {
     "data": {
      "text/plain": [
       "{'symbol': 'SPY',\n",
       " 'bid': 376.41,\n",
       " 'ask': 376.48,\n",
       " 'mid': 376.45,\n",
       " 'exp': '',\n",
       " 'strike': 0.0,\n",
       " 'cp': '',\n",
       " 'delta': 0.0,\n",
       " 'gamma': 0.0,\n",
       " 'theta': 0.0,\n",
       " 'vega': 0.0,\n",
       " 'iv': 0.0,\n",
       " 'und_price': 0.0,\n",
       " 'timestamp': '2021-01-28T15:10:53.752938-08:00'}"
      ]
     },
     "execution_count": 81,
     "metadata": {},
     "output_type": "execute_result"
    }
   ],
   "source": [
    "self.quote('SPY')"
   ]
  },
  {
   "cell_type": "markdown",
   "metadata": {},
   "source": [
    "### Option"
   ]
  },
  {
   "cell_type": "code",
   "execution_count": 82,
   "metadata": {},
   "outputs": [
    {
     "ename": "Exception",
     "evalue": "No quote for SPY   210129C00360000. Please query it during market open.",
     "output_type": "error",
     "traceback": [
      "An exception has occurred, use %tb to see the full traceback.\n",
      "\u001b[0;31mException\u001b[0m\u001b[0;31m:\u001b[0m No quote for SPY   210129C00360000. Please query it during market open.\n"
     ]
    }
   ],
   "source": [
    "self.quote('SPY', expiry='20210129', strike=360.0, cp='C')"
   ]
  },
  {
   "cell_type": "markdown",
   "metadata": {},
   "source": [
    "### Future"
   ]
  },
  {
   "cell_type": "code",
   "execution_count": 86,
   "metadata": {},
   "outputs": [
    {
     "data": {
      "text/plain": [
       "{'symbol': 'ES',\n",
       " 'bid': 3767.5,\n",
       " 'ask': 3767.75,\n",
       " 'mid': 3767.62,\n",
       " 'exp': '20210319',\n",
       " 'strike': 0.0,\n",
       " 'cp': '',\n",
       " 'delta': 0.0,\n",
       " 'gamma': 0.0,\n",
       " 'theta': 0.0,\n",
       " 'vega': 0.0,\n",
       " 'iv': 0.0,\n",
       " 'und_price': 0.0,\n",
       " 'timestamp': '2021-01-28T15:15:47.639021-08:00'}"
      ]
     },
     "execution_count": 86,
     "metadata": {},
     "output_type": "execute_result"
    }
   ],
   "source": [
    "self.quote('ES', expiry='20210319')"
   ]
  },
  {
   "cell_type": "markdown",
   "metadata": {},
   "source": [
    "### Future Option"
   ]
  },
  {
   "cell_type": "code",
   "execution_count": 84,
   "metadata": {},
   "outputs": [
    {
     "data": {
      "text/plain": [
       "{'symbol': 'ES',\n",
       " 'bid': 167.0,\n",
       " 'ask': 181.75,\n",
       " 'mid': 174.38,\n",
       " 'exp': '20210129',\n",
       " 'strike': 3595.0,\n",
       " 'cp': 'C',\n",
       " 'delta': 0.988,\n",
       " 'gamma': 0.0,\n",
       " 'theta': -0.328,\n",
       " 'vega': 0.058,\n",
       " 'iv': 0.42,\n",
       " 'und_price': 3768.0,\n",
       " 'timestamp': '2021-01-28T15:14:56.885247-08:00'}"
      ]
     },
     "execution_count": 84,
     "metadata": {},
     "output_type": "execute_result"
    }
   ],
   "source": [
    "self.quote('ES', expiry='20210129', strike=3595.0, cp='C', fop=True)"
   ]
  },
  {
   "cell_type": "markdown",
   "metadata": {},
   "source": [
    "## Disconnect IB"
   ]
  },
  {
   "cell_type": "code",
   "execution_count": 87,
   "metadata": {},
   "outputs": [],
   "source": [
    "self.disconnect()"
   ]
  },
  {
   "cell_type": "markdown",
   "metadata": {},
   "source": [
    "## Questions? @Ally on Slack"
   ]
  },
  {
   "cell_type": "code",
   "execution_count": null,
   "metadata": {},
   "outputs": [],
   "source": []
  }
 ],
 "metadata": {
  "kernelspec": {
   "display_name": "crypto_bot",
   "language": "python",
   "name": "crypto_bot"
  },
  "language_info": {
   "codemirror_mode": {
    "name": "ipython",
    "version": 3
   },
   "file_extension": ".py",
   "mimetype": "text/x-python",
   "name": "python",
   "nbconvert_exporter": "python",
   "pygments_lexer": "ipython3",
   "version": "3.8.6"
  }
 },
 "nbformat": 4,
 "nbformat_minor": 4
}
